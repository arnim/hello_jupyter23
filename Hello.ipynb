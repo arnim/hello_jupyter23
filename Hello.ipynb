{
 "cells": [
  {
   "cell_type": "markdown",
   "id": "44bba0b2-29d9-4d9d-b58d-f7eb81a17ad7",
   "metadata": {},
   "source": [
    "# Hello World\n",
    "\n",
    "This is our demo repository for the workshop \"[Introduction to Computational Social Science methods with Python](https://github.com/socialcomquant/css_methods_python_workshop)\"."
   ]
  },
  {
   "cell_type": "code",
   "execution_count": 1,
   "id": "9a62ca63-2a41-4ac6-8eb1-7b65f4a3ff1d",
   "metadata": {},
   "outputs": [
    {
     "data": {
      "text/plain": [
       "5"
      ]
     },
     "execution_count": 1,
     "metadata": {},
     "output_type": "execute_result"
    }
   ],
   "source": [
    "1 + 2 + 2"
   ]
  },
  {
   "cell_type": "code",
   "execution_count": null,
   "id": "3730870e-0c34-4340-a1af-92bc87b25d2c",
   "metadata": {},
   "outputs": [],
   "source": []
  }
 ],
 "metadata": {
  "kernelspec": {
   "display_name": "Python 3 (ipykernel)",
   "language": "python",
   "name": "python3"
  },
  "language_info": {
   "codemirror_mode": {
    "name": "ipython",
    "version": 3
   },
   "file_extension": ".py",
   "mimetype": "text/x-python",
   "name": "python",
   "nbconvert_exporter": "python",
   "pygments_lexer": "ipython3",
   "version": "3.9.13"
  }
 },
 "nbformat": 4,
 "nbformat_minor": 5
}
